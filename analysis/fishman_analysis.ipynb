{
 "cells": [
  {
   "cell_type": "markdown",
   "metadata": {
    "collapsed": false
   },
   "source": [
    "# Data exploration"
   ]
  },
  {
   "cell_type": "code",
   "metadata": {
    "collapsed": false,
    "ExecuteTime": {
     "end_time": "2024-12-03T17:17:36.683968Z",
     "start_time": "2024-12-03T17:17:36.245389Z"
    }
   },
   "source": [
    "import re\n",
    "\n",
    "import pandas as pd\n",
    "import numpy as np\n",
    "import os\n",
    "from PIL import Image\n",
    "\n"
   ],
   "outputs": [],
   "execution_count": 1
  },
  {
   "cell_type": "code",
   "source": [
    "\n",
    "# Path to your image folder\n",
    "image_folder = os.path.join(\"..\", \"data\", \"images\")\n",
    "metadata_file = os.path.join(\"..\", \"data\", \"metadata.csv\")\n",
    "\n",
    "# 1. List all image files in the folder\n",
    "image_files = [f for f in os.listdir(image_folder) if f.endswith('.jpg') or f.endswith('.png')]\n",
    "print(f\"there is a total of {image_files.__len__()} images\")\n"
   ],
   "metadata": {
    "collapsed": false,
    "ExecuteTime": {
     "end_time": "2024-12-03T17:51:03.433050Z",
     "start_time": "2024-12-03T17:51:03.421971Z"
    }
   },
   "outputs": [
    {
     "name": "stdout",
     "output_type": "stream",
     "text": [
      "there is a total of 15089 images\n"
     ]
    }
   ],
   "execution_count": 43
  },
  {
   "cell_type": "code",
   "source": [
    "# create a list of all image files\n",
    "image_files = list()\n",
    "for dirpath, dirnames, filenames in os.walk(image_folder):\n",
    "    for file in filenames:\n",
    "        if file.lower().endswith('.jpg') or file.lower().endswith('.png'):\n",
    "            image_files.append(os.path.join(dirpath, file))\n",
    "image_files[:10]"
   ],
   "metadata": {
    "collapsed": false,
    "ExecuteTime": {
     "end_time": "2024-12-03T17:51:05.349201Z",
     "start_time": "2024-12-03T17:51:05.328087Z"
    }
   },
   "outputs": [
    {
     "data": {
      "text/plain": [
       "['../data/images/7012189a-d8c9-4bd5-a339-01c59e069cbe__1.jpg',\n",
       " '../data/images/6434e2dc-4d94-4a19-bc1b-00feb6155d09__2.jpg',\n",
       " '../data/images/a1c08dea-63e0-4858-b230-098b3d954c04__2.jpg',\n",
       " '../data/images/aa76952f-2f56-42dd-9f0a-a4d55e7a0164__3.jpg',\n",
       " '../data/images/3f5158b6-f9a1-44d4-b52e-21ed792b90e1__2.jpg',\n",
       " '../data/images/3a9f875a-364f-45f4-b030-6942a0c6d3ba__2.jpg',\n",
       " '../data/images/605f9c52-c00f-47ac-a8d3-e1832ce1f534__2.jpg',\n",
       " '../data/images/e3fa23b1-a1f3-4ee1-bd30-560fab810f0c__2.jpg',\n",
       " '../data/images/d521b38b-4b28-4958-b784-d7b960244de8__4.jpg',\n",
       " '../data/images/4730a222-fc65-48e8-8280-586003fd52aa__2.jpg']"
      ]
     },
     "execution_count": 44,
     "metadata": {},
     "output_type": "execute_result"
    }
   ],
   "execution_count": 44
  },
  {
   "cell_type": "code",
   "source": [
    "# just for experimenting, let's play with one file\n",
    "#f = image_files[0]\n",
    "data = list()\n",
    "uuids = list() # create a list to store the uuids as files are being processed\n",
    "columns = [ f\"pixel_{str(i+1).rjust(7,'0')}\" for i in range(0,1000*1000*3)]\n",
    "for f in np.random.choice(image_files, size=1000, replace=False):\n",
    "    with Image.open(f) as img:\n",
    "        # ensure each image has 3 layers and the size is 1000x1000\n",
    "        assert img.layers == 3\n",
    "        assert img.size == (1000,1000)\n",
    "        \n",
    "        # convert to flattened np array\n",
    "        img_array = np.array(img).flatten()\n",
    "        \n",
    "        # append to data list\n",
    "        data.append(img_array)    \n",
    "        \n",
    "        # get the uuid from the filename\n",
    "        uuid = re.split(r'[\"\\\\|\\/\"]', img.filename)[-1].split('__')[0]\n",
    "        uuids.append(uuid)\n",
    "                \n",
    "# store the list of arrays in a matrix\n",
    "X = np.array(data)"
   ],
   "metadata": {
    "collapsed": false,
    "ExecuteTime": {
     "end_time": "2024-12-03T17:51:16.271596Z",
     "start_time": "2024-12-03T17:51:07.652081Z"
    }
   },
   "outputs": [],
   "execution_count": 45
  },
  {
   "cell_type": "code",
   "source": [
    "# now we need to convert the uuids into ages using the metadata!\n",
    "\n",
    "metadata_df = pd.read_csv(metadata_file)\n",
    "print(metadata_df.shape)\n",
    "metadata_df.head()\n",
    "\n"
   ],
   "metadata": {
    "collapsed": false,
    "ExecuteTime": {
     "end_time": "2024-12-03T17:51:18.246360Z",
     "start_time": "2024-12-03T17:51:18.225729Z"
    }
   },
   "outputs": [
    {
     "name": "stdout",
     "output_type": "stream",
     "text": [
      "(7828, 11)\n"
     ]
    },
    {
     "data": {
      "text/plain": [
       "                                   uuid          fish_id  age  length  weight  \\\n",
       "0  388b0180-60bc-440d-bd61-446f8bab884a  CAR-025-62-1466    4    0.22   0.070   \n",
       "1  81aeec93-b96d-4e14-b3f4-f49c4a8c18c7  CAR-025-72-1692    6    0.20   0.057   \n",
       "2  230abf76-c986-423d-b569-087489990963   CAR-025-3-0022    5    0.24   0.090   \n",
       "3  c33448fa-5c76-4a3a-b070-619a623906bc  CAR-025-36-0832    6    0.23   0.091   \n",
       "4  f26dc915-152e-4e3c-86b3-03252497dbb1  TEL-232-73-0573    3    0.15   0.021   \n",
       "\n",
       "   month  is_male  is_female  is_unknown  is_plaice  is_herring  \n",
       "0   0.75        0          1           0          1           0  \n",
       "1   0.75        1          0           0          1           0  \n",
       "2   0.75        0          1           0          1           0  \n",
       "3   0.75        1          0           0          1           0  \n",
       "4   0.75        0          0           1          1           0  "
      ],
      "text/html": [
       "<div>\n",
       "<style scoped>\n",
       "    .dataframe tbody tr th:only-of-type {\n",
       "        vertical-align: middle;\n",
       "    }\n",
       "\n",
       "    .dataframe tbody tr th {\n",
       "        vertical-align: top;\n",
       "    }\n",
       "\n",
       "    .dataframe thead th {\n",
       "        text-align: right;\n",
       "    }\n",
       "</style>\n",
       "<table border=\"1\" class=\"dataframe\">\n",
       "  <thead>\n",
       "    <tr style=\"text-align: right;\">\n",
       "      <th></th>\n",
       "      <th>uuid</th>\n",
       "      <th>fish_id</th>\n",
       "      <th>age</th>\n",
       "      <th>length</th>\n",
       "      <th>weight</th>\n",
       "      <th>month</th>\n",
       "      <th>is_male</th>\n",
       "      <th>is_female</th>\n",
       "      <th>is_unknown</th>\n",
       "      <th>is_plaice</th>\n",
       "      <th>is_herring</th>\n",
       "    </tr>\n",
       "  </thead>\n",
       "  <tbody>\n",
       "    <tr>\n",
       "      <th>0</th>\n",
       "      <td>388b0180-60bc-440d-bd61-446f8bab884a</td>\n",
       "      <td>CAR-025-62-1466</td>\n",
       "      <td>4</td>\n",
       "      <td>0.22</td>\n",
       "      <td>0.070</td>\n",
       "      <td>0.75</td>\n",
       "      <td>0</td>\n",
       "      <td>1</td>\n",
       "      <td>0</td>\n",
       "      <td>1</td>\n",
       "      <td>0</td>\n",
       "    </tr>\n",
       "    <tr>\n",
       "      <th>1</th>\n",
       "      <td>81aeec93-b96d-4e14-b3f4-f49c4a8c18c7</td>\n",
       "      <td>CAR-025-72-1692</td>\n",
       "      <td>6</td>\n",
       "      <td>0.20</td>\n",
       "      <td>0.057</td>\n",
       "      <td>0.75</td>\n",
       "      <td>1</td>\n",
       "      <td>0</td>\n",
       "      <td>0</td>\n",
       "      <td>1</td>\n",
       "      <td>0</td>\n",
       "    </tr>\n",
       "    <tr>\n",
       "      <th>2</th>\n",
       "      <td>230abf76-c986-423d-b569-087489990963</td>\n",
       "      <td>CAR-025-3-0022</td>\n",
       "      <td>5</td>\n",
       "      <td>0.24</td>\n",
       "      <td>0.090</td>\n",
       "      <td>0.75</td>\n",
       "      <td>0</td>\n",
       "      <td>1</td>\n",
       "      <td>0</td>\n",
       "      <td>1</td>\n",
       "      <td>0</td>\n",
       "    </tr>\n",
       "    <tr>\n",
       "      <th>3</th>\n",
       "      <td>c33448fa-5c76-4a3a-b070-619a623906bc</td>\n",
       "      <td>CAR-025-36-0832</td>\n",
       "      <td>6</td>\n",
       "      <td>0.23</td>\n",
       "      <td>0.091</td>\n",
       "      <td>0.75</td>\n",
       "      <td>1</td>\n",
       "      <td>0</td>\n",
       "      <td>0</td>\n",
       "      <td>1</td>\n",
       "      <td>0</td>\n",
       "    </tr>\n",
       "    <tr>\n",
       "      <th>4</th>\n",
       "      <td>f26dc915-152e-4e3c-86b3-03252497dbb1</td>\n",
       "      <td>TEL-232-73-0573</td>\n",
       "      <td>3</td>\n",
       "      <td>0.15</td>\n",
       "      <td>0.021</td>\n",
       "      <td>0.75</td>\n",
       "      <td>0</td>\n",
       "      <td>0</td>\n",
       "      <td>1</td>\n",
       "      <td>1</td>\n",
       "      <td>0</td>\n",
       "    </tr>\n",
       "  </tbody>\n",
       "</table>\n",
       "</div>"
      ]
     },
     "execution_count": 46,
     "metadata": {},
     "output_type": "execute_result"
    }
   ],
   "execution_count": 46
  },
  {
   "cell_type": "code",
   "source": [
    "\n",
    "# create a lookup from uuid to age using df\n",
    "uuid_age_lookup = dict()\n",
    "for index, row in metadata_df.iterrows():\n",
    "    uuid_age_lookup[row[\"uuid\"]] = row[\"age\"]\n",
    "y = np.array([uuid_age_lookup[uuid] for uuid in uuids])\n",
    "y.shape\n"
   ],
   "metadata": {
    "collapsed": false,
    "ExecuteTime": {
     "end_time": "2024-12-03T17:51:21.428959Z",
     "start_time": "2024-12-03T17:51:21.257838Z"
    }
   },
   "outputs": [
    {
     "data": {
      "text/plain": [
       "(1000,)"
      ]
     },
     "execution_count": 47,
     "metadata": {},
     "output_type": "execute_result"
    }
   ],
   "execution_count": 47
  },
  {
   "metadata": {
    "ExecuteTime": {
     "end_time": "2024-12-03T17:45:51.154312Z",
     "start_time": "2024-12-03T17:45:50.733752Z"
    }
   },
   "cell_type": "code",
   "source": [
    "from sklearn.preprocessing import StandardScaler\n",
    "from sklearn.compose import ColumnTransformer\n",
    "\n",
    "# preprocessor = ColumnTransformer(\n",
    "#     transformers=[\n",
    "#         ('num', StandardScaler(), slice(0,X.shape[0])),  # Standard scaling for numerical features\n",
    "#     ])\n",
    "# X = preprocessor.fit_transform(X)"
   ],
   "outputs": [],
   "execution_count": 32
  },
  {
   "metadata": {
    "ExecuteTime": {
     "end_time": "2024-12-03T17:51:31.072349Z",
     "start_time": "2024-12-03T17:51:25.592642Z"
    }
   },
   "cell_type": "code",
   "source": [
    "from sklearn.model_selection import train_test_split\n",
    "\n",
    "# Split the dataset into training and testing sets\n",
    "X_train, X_test, y_train, y_test = train_test_split(X, y, test_size=0.2, random_state=42)"
   ],
   "outputs": [],
   "execution_count": 48
  },
  {
   "metadata": {
    "ExecuteTime": {
     "end_time": "2024-12-04T06:55:09.335943Z",
     "start_time": "2024-12-03T17:51:32.506955Z"
    }
   },
   "cell_type": "code",
   "source": [
    "from sklearn.metrics import mean_squared_error, r2_score\n",
    "from sklearn.ensemble import RandomForestRegressor, RandomForestClassifier\n",
    "\n",
    "# Train a Random Forest Regressor\n",
    "rf = RandomForestRegressor(n_estimators=50, random_state=42)\n",
    "\n",
    "rf.fit(X_train, y_train)\n",
    "y_pred = rf.predict(X_test)\n",
    "\n",
    "\n",
    "# # 11. Evaluate the model\n",
    "mse = mean_squared_error(y_test, y_pred)\n",
    "rmse = mse ** 0.5\n",
    "r2 = r2_score(y_test, y_pred)\n",
    "# \n",
    "print(f\"Mean Squared Error (MSE): {mse:.2f}\")\n",
    "print(f'Root Mean Squared Error: {rmse}')\n",
    "print(f\"R-squared (R²): {r2:.2f}\")\n",
    "\n",
    "\n",
    "# takes 13 h to process 1000 images (1000x1000)\n",
    "\n",
    "\n",
    "# from sklearn.metrics import accuracy_score\n",
    "\n",
    "# accuracy_score(y_true=y_test, y_pred=y_pred)\n"
   ],
   "outputs": [
    {
     "name": "stdout",
     "output_type": "stream",
     "text": [
      "Mean Squared Error (MSE): 4.41\n",
      "Root Mean Squared Error: 2.0993832427644077\n",
      "R-squared (R²): 0.40\n"
     ]
    }
   ],
   "execution_count": 49
  },
  {
   "metadata": {},
   "cell_type": "markdown",
   "source": "# First question: what is an appropriate image size to use? The full size takes a really long time to run and I would expect the benefits of higher res will start to plateau at a certain point. "
  },
  {
   "metadata": {
    "ExecuteTime": {
     "end_time": "2024-12-05T18:37:58.273827Z",
     "start_time": "2024-12-05T18:37:58.270238Z"
    }
   },
   "cell_type": "code",
   "source": [
    "# just for experimenting, let's play with one file\n",
    "#f = image_files[0]\n",
    "\n",
    "sizes = np.arange(25,1000, 15)\n",
    "\n",
    "results = list()\n",
    "sample = np.random.choice(image_files, size=100, replace=False)\n",
    "for s in sizes:\n",
    "    print(f\"computing score for size {s}\")\n",
    "    data = list()\n",
    "    uuids = list() # create a list to store the uuids as files are being processed\n",
    "    columns = [ f\"pixel_{str(i+1).rjust(7,'0')}\" for i in range(0,s**2*3)]\n",
    "    for f in sample:\n",
    "        with Image.open(f) as img:\n",
    "            # ensure each image has 3 layers and the size is 1000x1000\n",
    "            assert img.layers == 3\n",
    "            assert img.size == (1000,1000)\n",
    "            img = img.resize((s,s))\n",
    "            # convert to flattened np array\n",
    "            img_array = np.array(img).flatten()\n",
    "    \n",
    "            # append to data list\n",
    "            data.append(img_array)    \n",
    "    \n",
    "            # get the uuid from the filename\n",
    "            uuid = re.split(r'[\"\\\\|\\/\"]', img.filename)[-1].split('__')[0]\n",
    "            uuids.append(uuid)\n",
    "    \n",
    "    # store the list of arrays in a matrix\n",
    "    X = np.array(data)"
   ],
   "outputs": [],
   "execution_count": 51
  },
  {
   "metadata": {
    "ExecuteTime": {
     "end_time": "2024-12-05T18:39:45.525021Z",
     "start_time": "2024-12-05T18:39:45.520958Z"
    }
   },
   "cell_type": "code",
   "source": "",
   "outputs": [
    {
     "data": {
      "text/plain": [
       "3000000"
      ]
     },
     "execution_count": 54,
     "metadata": {},
     "output_type": "execute_result"
    }
   ],
   "execution_count": 54
  },
  {
   "metadata": {},
   "cell_type": "code",
   "outputs": [],
   "execution_count": null,
   "source": ""
  },
  {
   "metadata": {},
   "cell_type": "code",
   "outputs": [],
   "execution_count": null,
   "source": ""
  },
  {
   "metadata": {},
   "cell_type": "code",
   "outputs": [],
   "execution_count": null,
   "source": ""
  },
  {
   "metadata": {},
   "cell_type": "code",
   "outputs": [],
   "execution_count": null,
   "source": ""
  },
  {
   "metadata": {},
   "cell_type": "code",
   "outputs": [],
   "execution_count": null,
   "source": ""
  },
  {
   "metadata": {},
   "cell_type": "markdown",
   "source": [
    "- using a small subsample, what happens when we build a model / classifier using different resolution sizes..  \n",
    "- We'll want to make sure that the training dataset has good representation of the two species and each size class"
   ]
  }
 ],
 "metadata": {
  "colab": {
   "provenance": []
  },
  "kernelspec": {
   "display_name": "Python 3 (ipykernel)",
   "language": "python",
   "name": "python3"
  },
  "language_info": {
   "codemirror_mode": {
    "name": "ipython",
    "version": 3
   },
   "file_extension": ".py",
   "mimetype": "text/x-python",
   "name": "python",
   "nbconvert_exporter": "python",
   "pygments_lexer": "ipython3",
   "version": "3.10.12"
  }
 },
 "nbformat": 4,
 "nbformat_minor": 4
}
