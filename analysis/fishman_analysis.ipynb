{
 "cells": [
  {
   "cell_type": "markdown",
   "metadata": {
    "collapsed": false
   },
   "source": [
    "# Data exploration"
   ]
  },
  {
   "cell_type": "code",
   "metadata": {
    "collapsed": false,
    "ExecuteTime": {
     "end_time": "2024-12-03T17:17:36.683968Z",
     "start_time": "2024-12-03T17:17:36.245389Z"
    }
   },
   "source": [
    "import re\n",
    "\n",
    "import pandas as pd\n",
    "import numpy as np\n",
    "import os\n",
    "from PIL import Image\n",
    "\n"
   ],
   "outputs": [],
   "execution_count": 1
  },
  {
   "cell_type": "code",
   "source": [
    "\n",
    "# Path to your image folder\n",
    "image_folder = os.path.join(\"..\", \"data\", \"images\")\n",
    "metadata_file = os.path.join(\"..\", \"data\", \"metadata.csv\")\n",
    "\n",
    "# 1. List all image files in the folder\n",
    "image_files = [f for f in os.listdir(image_folder) if f.endswith('.jpg') or f.endswith('.png')]\n",
    "print(f\"there is a total of {image_files.__len__()} images\")\n"
   ],
   "metadata": {
    "collapsed": false,
    "ExecuteTime": {
     "end_time": "2024-12-03T17:51:03.433050Z",
     "start_time": "2024-12-03T17:51:03.421971Z"
    }
   },
   "outputs": [
    {
     "name": "stdout",
     "output_type": "stream",
     "text": [
      "there is a total of 15089 images\n"
     ]
    }
   ],
   "execution_count": 43
  },
  {
   "cell_type": "code",
   "source": [
    "# create a list of all image files\n",
    "image_files = list()\n",
    "for dirpath, dirnames, filenames in os.walk(image_folder):\n",
    "    for file in filenames:\n",
    "        if file.lower().endswith('.jpg') or file.lower().endswith('.png'):\n",
    "            image_files.append(os.path.join(dirpath, file))\n",
    "image_files[:10]"
   ],
   "metadata": {
    "collapsed": false,
    "ExecuteTime": {
     "end_time": "2024-12-03T17:51:05.349201Z",
     "start_time": "2024-12-03T17:51:05.328087Z"
    }
   },
   "outputs": [
    {
     "data": {
      "text/plain": [
       "['../data/images/7012189a-d8c9-4bd5-a339-01c59e069cbe__1.jpg',\n",
       " '../data/images/6434e2dc-4d94-4a19-bc1b-00feb6155d09__2.jpg',\n",
       " '../data/images/a1c08dea-63e0-4858-b230-098b3d954c04__2.jpg',\n",
       " '../data/images/aa76952f-2f56-42dd-9f0a-a4d55e7a0164__3.jpg',\n",
       " '../data/images/3f5158b6-f9a1-44d4-b52e-21ed792b90e1__2.jpg',\n",
       " '../data/images/3a9f875a-364f-45f4-b030-6942a0c6d3ba__2.jpg',\n",
       " '../data/images/605f9c52-c00f-47ac-a8d3-e1832ce1f534__2.jpg',\n",
       " '../data/images/e3fa23b1-a1f3-4ee1-bd30-560fab810f0c__2.jpg',\n",
       " '../data/images/d521b38b-4b28-4958-b784-d7b960244de8__4.jpg',\n",
       " '../data/images/4730a222-fc65-48e8-8280-586003fd52aa__2.jpg']"
      ]
     },
     "execution_count": 44,
     "metadata": {},
     "output_type": "execute_result"
    }
   ],
   "execution_count": 44
  },
  {
   "metadata": {
    "ExecuteTime": {
     "end_time": "2024-12-05T19:41:40.918691Z",
     "start_time": "2024-12-05T19:41:40.899679Z"
    }
   },
   "cell_type": "code",
   "source": [
    "\n",
    "# we are going to want to do stuff with the metadata so let's create a df, with each row being an image and the associated attributes from the metadata\n",
    "metadata_df = pd.read_csv(metadata_file)\n",
    "print(metadata_df.shape)\n",
    "metadata_df.head()"
   ],
   "outputs": [
    {
     "name": "stdout",
     "output_type": "stream",
     "text": [
      "(7828, 11)\n"
     ]
    },
    {
     "data": {
      "text/plain": [
       "                                   uuid          fish_id  age  length  weight  \\\n",
       "0  388b0180-60bc-440d-bd61-446f8bab884a  CAR-025-62-1466    4    0.22   0.070   \n",
       "1  81aeec93-b96d-4e14-b3f4-f49c4a8c18c7  CAR-025-72-1692    6    0.20   0.057   \n",
       "2  230abf76-c986-423d-b569-087489990963   CAR-025-3-0022    5    0.24   0.090   \n",
       "3  c33448fa-5c76-4a3a-b070-619a623906bc  CAR-025-36-0832    6    0.23   0.091   \n",
       "4  f26dc915-152e-4e3c-86b3-03252497dbb1  TEL-232-73-0573    3    0.15   0.021   \n",
       "\n",
       "   month  is_male  is_female  is_unknown  is_plaice  is_herring  \n",
       "0   0.75        0          1           0          1           0  \n",
       "1   0.75        1          0           0          1           0  \n",
       "2   0.75        0          1           0          1           0  \n",
       "3   0.75        1          0           0          1           0  \n",
       "4   0.75        0          0           1          1           0  "
      ],
      "text/html": [
       "<div>\n",
       "<style scoped>\n",
       "    .dataframe tbody tr th:only-of-type {\n",
       "        vertical-align: middle;\n",
       "    }\n",
       "\n",
       "    .dataframe tbody tr th {\n",
       "        vertical-align: top;\n",
       "    }\n",
       "\n",
       "    .dataframe thead th {\n",
       "        text-align: right;\n",
       "    }\n",
       "</style>\n",
       "<table border=\"1\" class=\"dataframe\">\n",
       "  <thead>\n",
       "    <tr style=\"text-align: right;\">\n",
       "      <th></th>\n",
       "      <th>uuid</th>\n",
       "      <th>fish_id</th>\n",
       "      <th>age</th>\n",
       "      <th>length</th>\n",
       "      <th>weight</th>\n",
       "      <th>month</th>\n",
       "      <th>is_male</th>\n",
       "      <th>is_female</th>\n",
       "      <th>is_unknown</th>\n",
       "      <th>is_plaice</th>\n",
       "      <th>is_herring</th>\n",
       "    </tr>\n",
       "  </thead>\n",
       "  <tbody>\n",
       "    <tr>\n",
       "      <th>0</th>\n",
       "      <td>388b0180-60bc-440d-bd61-446f8bab884a</td>\n",
       "      <td>CAR-025-62-1466</td>\n",
       "      <td>4</td>\n",
       "      <td>0.22</td>\n",
       "      <td>0.070</td>\n",
       "      <td>0.75</td>\n",
       "      <td>0</td>\n",
       "      <td>1</td>\n",
       "      <td>0</td>\n",
       "      <td>1</td>\n",
       "      <td>0</td>\n",
       "    </tr>\n",
       "    <tr>\n",
       "      <th>1</th>\n",
       "      <td>81aeec93-b96d-4e14-b3f4-f49c4a8c18c7</td>\n",
       "      <td>CAR-025-72-1692</td>\n",
       "      <td>6</td>\n",
       "      <td>0.20</td>\n",
       "      <td>0.057</td>\n",
       "      <td>0.75</td>\n",
       "      <td>1</td>\n",
       "      <td>0</td>\n",
       "      <td>0</td>\n",
       "      <td>1</td>\n",
       "      <td>0</td>\n",
       "    </tr>\n",
       "    <tr>\n",
       "      <th>2</th>\n",
       "      <td>230abf76-c986-423d-b569-087489990963</td>\n",
       "      <td>CAR-025-3-0022</td>\n",
       "      <td>5</td>\n",
       "      <td>0.24</td>\n",
       "      <td>0.090</td>\n",
       "      <td>0.75</td>\n",
       "      <td>0</td>\n",
       "      <td>1</td>\n",
       "      <td>0</td>\n",
       "      <td>1</td>\n",
       "      <td>0</td>\n",
       "    </tr>\n",
       "    <tr>\n",
       "      <th>3</th>\n",
       "      <td>c33448fa-5c76-4a3a-b070-619a623906bc</td>\n",
       "      <td>CAR-025-36-0832</td>\n",
       "      <td>6</td>\n",
       "      <td>0.23</td>\n",
       "      <td>0.091</td>\n",
       "      <td>0.75</td>\n",
       "      <td>1</td>\n",
       "      <td>0</td>\n",
       "      <td>0</td>\n",
       "      <td>1</td>\n",
       "      <td>0</td>\n",
       "    </tr>\n",
       "    <tr>\n",
       "      <th>4</th>\n",
       "      <td>f26dc915-152e-4e3c-86b3-03252497dbb1</td>\n",
       "      <td>TEL-232-73-0573</td>\n",
       "      <td>3</td>\n",
       "      <td>0.15</td>\n",
       "      <td>0.021</td>\n",
       "      <td>0.75</td>\n",
       "      <td>0</td>\n",
       "      <td>0</td>\n",
       "      <td>1</td>\n",
       "      <td>1</td>\n",
       "      <td>0</td>\n",
       "    </tr>\n",
       "  </tbody>\n",
       "</table>\n",
       "</div>"
      ]
     },
     "execution_count": 73,
     "metadata": {},
     "output_type": "execute_result"
    }
   ],
   "execution_count": 73
  },
  {
   "metadata": {
    "ExecuteTime": {
     "end_time": "2024-12-05T19:48:05.928902Z",
     "start_time": "2024-12-05T19:48:05.894278Z"
    }
   },
   "cell_type": "code",
   "source": [
    "def get_uuid_from_path(x):\n",
    "    return re.split(r'[\"\\\\|\\/\"]', x)[-1].split('__')[0]\n",
    "\n",
    "\n",
    "df = pd.DataFrame(dict(img_filepath=image_files))\n",
    "df[\"uuid\"] = df[\"img_filepath\"].apply(get_uuid_from_path)\n",
    "df = df.merge(metadata_df, on=\"uuid\", how=\"left\")\n",
    "print(df.shape)\n",
    "df.head()\n"
   ],
   "outputs": [
    {
     "name": "stdout",
     "output_type": "stream",
     "text": [
      "(15089, 12)\n"
     ]
    },
    {
     "data": {
      "text/plain": [
       "                                                 img_filepath  \\\n",
       "0  ../data/images/7012189a-d8c9-4bd5-a339-01c59e069cbe__1.jpg   \n",
       "1  ../data/images/6434e2dc-4d94-4a19-bc1b-00feb6155d09__2.jpg   \n",
       "2  ../data/images/a1c08dea-63e0-4858-b230-098b3d954c04__2.jpg   \n",
       "3  ../data/images/aa76952f-2f56-42dd-9f0a-a4d55e7a0164__3.jpg   \n",
       "4  ../data/images/3f5158b6-f9a1-44d4-b52e-21ed792b90e1__2.jpg   \n",
       "\n",
       "                                   uuid          fish_id  age  length  \\\n",
       "0  7012189a-d8c9-4bd5-a339-01c59e069cbe        14141-022    9  0.3217   \n",
       "1  6434e2dc-4d94-4a19-bc1b-00feb6155d09        13977-008    6  0.3010   \n",
       "2  a1c08dea-63e0-4858-b230-098b3d954c04  TEL-232-54-0375    4  0.1300   \n",
       "3  aa76952f-2f56-42dd-9f0a-a4d55e7a0164  CAR-025-31-0745    6  0.2100   \n",
       "4  3f5158b6-f9a1-44d4-b52e-21ed792b90e1  CAR-025-46-1038    4  0.1700   \n",
       "\n",
       "    weight     month  is_male  is_female  is_unknown  is_plaice  is_herring  \n",
       "0  0.26000  0.750000        0          1           0          0           1  \n",
       "1  0.23961  0.666667        0          1           0          0           1  \n",
       "2  0.01300  0.750000        0          0           1          1           0  \n",
       "3  0.06000  0.750000        0          1           0          1           0  \n",
       "4  0.03800  0.750000        1          0           0          1           0  "
      ],
      "text/html": [
       "<div>\n",
       "<style scoped>\n",
       "    .dataframe tbody tr th:only-of-type {\n",
       "        vertical-align: middle;\n",
       "    }\n",
       "\n",
       "    .dataframe tbody tr th {\n",
       "        vertical-align: top;\n",
       "    }\n",
       "\n",
       "    .dataframe thead th {\n",
       "        text-align: right;\n",
       "    }\n",
       "</style>\n",
       "<table border=\"1\" class=\"dataframe\">\n",
       "  <thead>\n",
       "    <tr style=\"text-align: right;\">\n",
       "      <th></th>\n",
       "      <th>img_filepath</th>\n",
       "      <th>uuid</th>\n",
       "      <th>fish_id</th>\n",
       "      <th>age</th>\n",
       "      <th>length</th>\n",
       "      <th>weight</th>\n",
       "      <th>month</th>\n",
       "      <th>is_male</th>\n",
       "      <th>is_female</th>\n",
       "      <th>is_unknown</th>\n",
       "      <th>is_plaice</th>\n",
       "      <th>is_herring</th>\n",
       "    </tr>\n",
       "  </thead>\n",
       "  <tbody>\n",
       "    <tr>\n",
       "      <th>0</th>\n",
       "      <td>../data/images/7012189a-d8c9-4bd5-a339-01c59e069cbe__1.jpg</td>\n",
       "      <td>7012189a-d8c9-4bd5-a339-01c59e069cbe</td>\n",
       "      <td>14141-022</td>\n",
       "      <td>9</td>\n",
       "      <td>0.3217</td>\n",
       "      <td>0.26000</td>\n",
       "      <td>0.750000</td>\n",
       "      <td>0</td>\n",
       "      <td>1</td>\n",
       "      <td>0</td>\n",
       "      <td>0</td>\n",
       "      <td>1</td>\n",
       "    </tr>\n",
       "    <tr>\n",
       "      <th>1</th>\n",
       "      <td>../data/images/6434e2dc-4d94-4a19-bc1b-00feb6155d09__2.jpg</td>\n",
       "      <td>6434e2dc-4d94-4a19-bc1b-00feb6155d09</td>\n",
       "      <td>13977-008</td>\n",
       "      <td>6</td>\n",
       "      <td>0.3010</td>\n",
       "      <td>0.23961</td>\n",
       "      <td>0.666667</td>\n",
       "      <td>0</td>\n",
       "      <td>1</td>\n",
       "      <td>0</td>\n",
       "      <td>0</td>\n",
       "      <td>1</td>\n",
       "    </tr>\n",
       "    <tr>\n",
       "      <th>2</th>\n",
       "      <td>../data/images/a1c08dea-63e0-4858-b230-098b3d954c04__2.jpg</td>\n",
       "      <td>a1c08dea-63e0-4858-b230-098b3d954c04</td>\n",
       "      <td>TEL-232-54-0375</td>\n",
       "      <td>4</td>\n",
       "      <td>0.1300</td>\n",
       "      <td>0.01300</td>\n",
       "      <td>0.750000</td>\n",
       "      <td>0</td>\n",
       "      <td>0</td>\n",
       "      <td>1</td>\n",
       "      <td>1</td>\n",
       "      <td>0</td>\n",
       "    </tr>\n",
       "    <tr>\n",
       "      <th>3</th>\n",
       "      <td>../data/images/aa76952f-2f56-42dd-9f0a-a4d55e7a0164__3.jpg</td>\n",
       "      <td>aa76952f-2f56-42dd-9f0a-a4d55e7a0164</td>\n",
       "      <td>CAR-025-31-0745</td>\n",
       "      <td>6</td>\n",
       "      <td>0.2100</td>\n",
       "      <td>0.06000</td>\n",
       "      <td>0.750000</td>\n",
       "      <td>0</td>\n",
       "      <td>1</td>\n",
       "      <td>0</td>\n",
       "      <td>1</td>\n",
       "      <td>0</td>\n",
       "    </tr>\n",
       "    <tr>\n",
       "      <th>4</th>\n",
       "      <td>../data/images/3f5158b6-f9a1-44d4-b52e-21ed792b90e1__2.jpg</td>\n",
       "      <td>3f5158b6-f9a1-44d4-b52e-21ed792b90e1</td>\n",
       "      <td>CAR-025-46-1038</td>\n",
       "      <td>4</td>\n",
       "      <td>0.1700</td>\n",
       "      <td>0.03800</td>\n",
       "      <td>0.750000</td>\n",
       "      <td>1</td>\n",
       "      <td>0</td>\n",
       "      <td>0</td>\n",
       "      <td>1</td>\n",
       "      <td>0</td>\n",
       "    </tr>\n",
       "  </tbody>\n",
       "</table>\n",
       "</div>"
      ]
     },
     "execution_count": 78,
     "metadata": {},
     "output_type": "execute_result"
    }
   ],
   "execution_count": 78
  },
  {
   "metadata": {},
   "cell_type": "code",
   "outputs": [],
   "execution_count": null,
   "source": []
  },
  {
   "metadata": {},
   "cell_type": "code",
   "outputs": [],
   "execution_count": null,
   "source": []
  },
  {
   "metadata": {},
   "cell_type": "markdown",
   "source": [
    "# First question: what is an appropriate image size to use? The full size takes a really long time to run and I would expect the benefits of higher res will start to plateau at a certain point. "
   ]
  },
  {
   "metadata": {
    "ExecuteTime": {
     "end_time": "2024-12-05T19:49:51.629386Z",
     "start_time": "2024-12-05T19:49:51.619259Z"
    }
   },
   "cell_type": "code",
   "source": [
    "# for this, let's look at just one type of otolith\n",
    "\n",
    "mask = df[\"is_plaice\"] == 1\n",
    "plaice_df = df[mask]\n",
    "plaice_df.head()"
   ],
   "outputs": [
    {
     "data": {
      "text/plain": [
       "                                                  img_filepath  \\\n",
       "2   ../data/images/a1c08dea-63e0-4858-b230-098b3d954c04__2.jpg   \n",
       "3   ../data/images/aa76952f-2f56-42dd-9f0a-a4d55e7a0164__3.jpg   \n",
       "4   ../data/images/3f5158b6-f9a1-44d4-b52e-21ed792b90e1__2.jpg   \n",
       "8   ../data/images/d521b38b-4b28-4958-b784-d7b960244de8__4.jpg   \n",
       "12  ../data/images/14e651a6-0a35-4e0d-bbfa-36a12b54d10d__2.jpg   \n",
       "\n",
       "                                    uuid          fish_id  age  length  \\\n",
       "2   a1c08dea-63e0-4858-b230-098b3d954c04  TEL-232-54-0375    4    0.13   \n",
       "3   aa76952f-2f56-42dd-9f0a-a4d55e7a0164  CAR-025-31-0745    6    0.21   \n",
       "4   3f5158b6-f9a1-44d4-b52e-21ed792b90e1  CAR-025-46-1038    4    0.17   \n",
       "8   d521b38b-4b28-4958-b784-d7b960244de8  CAR-025-74-1785    4    0.16   \n",
       "12  14e651a6-0a35-4e0d-bbfa-36a12b54d10d  TEL-232-73-0555    7    0.31   \n",
       "\n",
       "    weight  month  is_male  is_female  is_unknown  is_plaice  is_herring  \n",
       "2    0.013   0.75        0          0           1          1           0  \n",
       "3    0.060   0.75        0          1           0          1           0  \n",
       "4    0.038   0.75        1          0           0          1           0  \n",
       "8    0.026   0.75        1          0           0          1           0  \n",
       "12   0.241   0.75        0          0           1          1           0  "
      ],
      "text/html": [
       "<div>\n",
       "<style scoped>\n",
       "    .dataframe tbody tr th:only-of-type {\n",
       "        vertical-align: middle;\n",
       "    }\n",
       "\n",
       "    .dataframe tbody tr th {\n",
       "        vertical-align: top;\n",
       "    }\n",
       "\n",
       "    .dataframe thead th {\n",
       "        text-align: right;\n",
       "    }\n",
       "</style>\n",
       "<table border=\"1\" class=\"dataframe\">\n",
       "  <thead>\n",
       "    <tr style=\"text-align: right;\">\n",
       "      <th></th>\n",
       "      <th>img_filepath</th>\n",
       "      <th>uuid</th>\n",
       "      <th>fish_id</th>\n",
       "      <th>age</th>\n",
       "      <th>length</th>\n",
       "      <th>weight</th>\n",
       "      <th>month</th>\n",
       "      <th>is_male</th>\n",
       "      <th>is_female</th>\n",
       "      <th>is_unknown</th>\n",
       "      <th>is_plaice</th>\n",
       "      <th>is_herring</th>\n",
       "    </tr>\n",
       "  </thead>\n",
       "  <tbody>\n",
       "    <tr>\n",
       "      <th>2</th>\n",
       "      <td>../data/images/a1c08dea-63e0-4858-b230-098b3d954c04__2.jpg</td>\n",
       "      <td>a1c08dea-63e0-4858-b230-098b3d954c04</td>\n",
       "      <td>TEL-232-54-0375</td>\n",
       "      <td>4</td>\n",
       "      <td>0.13</td>\n",
       "      <td>0.013</td>\n",
       "      <td>0.75</td>\n",
       "      <td>0</td>\n",
       "      <td>0</td>\n",
       "      <td>1</td>\n",
       "      <td>1</td>\n",
       "      <td>0</td>\n",
       "    </tr>\n",
       "    <tr>\n",
       "      <th>3</th>\n",
       "      <td>../data/images/aa76952f-2f56-42dd-9f0a-a4d55e7a0164__3.jpg</td>\n",
       "      <td>aa76952f-2f56-42dd-9f0a-a4d55e7a0164</td>\n",
       "      <td>CAR-025-31-0745</td>\n",
       "      <td>6</td>\n",
       "      <td>0.21</td>\n",
       "      <td>0.060</td>\n",
       "      <td>0.75</td>\n",
       "      <td>0</td>\n",
       "      <td>1</td>\n",
       "      <td>0</td>\n",
       "      <td>1</td>\n",
       "      <td>0</td>\n",
       "    </tr>\n",
       "    <tr>\n",
       "      <th>4</th>\n",
       "      <td>../data/images/3f5158b6-f9a1-44d4-b52e-21ed792b90e1__2.jpg</td>\n",
       "      <td>3f5158b6-f9a1-44d4-b52e-21ed792b90e1</td>\n",
       "      <td>CAR-025-46-1038</td>\n",
       "      <td>4</td>\n",
       "      <td>0.17</td>\n",
       "      <td>0.038</td>\n",
       "      <td>0.75</td>\n",
       "      <td>1</td>\n",
       "      <td>0</td>\n",
       "      <td>0</td>\n",
       "      <td>1</td>\n",
       "      <td>0</td>\n",
       "    </tr>\n",
       "    <tr>\n",
       "      <th>8</th>\n",
       "      <td>../data/images/d521b38b-4b28-4958-b784-d7b960244de8__4.jpg</td>\n",
       "      <td>d521b38b-4b28-4958-b784-d7b960244de8</td>\n",
       "      <td>CAR-025-74-1785</td>\n",
       "      <td>4</td>\n",
       "      <td>0.16</td>\n",
       "      <td>0.026</td>\n",
       "      <td>0.75</td>\n",
       "      <td>1</td>\n",
       "      <td>0</td>\n",
       "      <td>0</td>\n",
       "      <td>1</td>\n",
       "      <td>0</td>\n",
       "    </tr>\n",
       "    <tr>\n",
       "      <th>12</th>\n",
       "      <td>../data/images/14e651a6-0a35-4e0d-bbfa-36a12b54d10d__2.jpg</td>\n",
       "      <td>14e651a6-0a35-4e0d-bbfa-36a12b54d10d</td>\n",
       "      <td>TEL-232-73-0555</td>\n",
       "      <td>7</td>\n",
       "      <td>0.31</td>\n",
       "      <td>0.241</td>\n",
       "      <td>0.75</td>\n",
       "      <td>0</td>\n",
       "      <td>0</td>\n",
       "      <td>1</td>\n",
       "      <td>1</td>\n",
       "      <td>0</td>\n",
       "    </tr>\n",
       "  </tbody>\n",
       "</table>\n",
       "</div>"
      ]
     },
     "execution_count": 86,
     "metadata": {},
     "output_type": "execute_result"
    }
   ],
   "execution_count": 86
  },
  {
   "metadata": {
    "ExecuteTime": {
     "end_time": "2024-12-05T19:50:24.468129Z",
     "start_time": "2024-12-05T19:50:24.464656Z"
    }
   },
   "cell_type": "code",
   "source": [],
   "outputs": [],
   "execution_count": 86
  },
  {
   "metadata": {
    "ExecuteTime": {
     "end_time": "2024-12-05T20:13:05.433715Z",
     "start_time": "2024-12-05T20:11:43.657615Z"
    }
   },
   "cell_type": "code",
   "source": [
    "from sklearn.metrics import accuracy_score\n",
    "from sklearn.ensemble import RandomForestRegressor, RandomForestClassifier\n",
    "from sklearn.model_selection import train_test_split\n",
    "\n",
    "sample_size = 300\n",
    "# let's select a random sample of `sample_size` images\n",
    "sample = df.sample(n=sample_size, replace=False)\n",
    "\n",
    "# define the sizes we want to test\n",
    "sizes = np.arange(100, 1100, 100)\n",
    "\n",
    "scores = list()\n",
    "y = sample[\"age\"]\n",
    "\n",
    "for s in sizes:\n",
    "    print(f\"computing score for size {s}\")\n",
    "    data = list()\n",
    "    columns = [f\"pixel_{str(i + 1).rjust(7, '0')}\" for i in range(0, s ** 2 * 3)]\n",
    "    for index, row in sample.iterrows():\n",
    "        filepath = row[\"img_filepath\"]\n",
    "        with Image.open(filepath) as img:\n",
    "            # resize img appropriately\n",
    "            img = img.resize((s, s))\n",
    "            # convert to flattened np array\n",
    "            img_array = np.array(img).flatten()\n",
    "            # append to data list\n",
    "            data.append(img_array)\n",
    "\n",
    "    # store the list of arrays in a matrix\n",
    "    X = np.array(data)\n",
    "    X_train, X_test, y_train, y_test = train_test_split(X, y, test_size=0.2, random_state=42)\n",
    "\n",
    "    rf = RandomForestClassifier(n_estimators=50, random_state=42)\n",
    "    rf.fit(X_train, y_train)\n",
    "    y_pred = rf.predict(X_test)\n",
    "    # 11. Evaluate the model\n",
    "    s = accuracy_score(y_test, y_pred)\n",
    "    print(f\"Accuracy score: {s}\")\n",
    "\n",
    "    # print(f\"Mean Squared Error (MSE): {mse:.2f}\")\n",
    "    # print(f'Root Mean Squared Error: {rmse}')\n",
    "    # print(f\"R-squared (R²): {r2:.2f}\")"
   ],
   "outputs": [
    {
     "name": "stdout",
     "output_type": "stream",
     "text": [
      "computing score for size 100\n",
      "Accuracy score: 0.16666666666666666\n",
      "computing score for size 200\n",
      "Accuracy score: 0.21666666666666667\n",
      "computing score for size 300\n",
      "Accuracy score: 0.21666666666666667\n",
      "computing score for size 400\n",
      "Accuracy score: 0.18333333333333332\n",
      "computing score for size 500\n",
      "Accuracy score: 0.23333333333333334\n",
      "computing score for size 600\n",
      "Accuracy score: 0.18333333333333332\n",
      "computing score for size 700\n",
      "Accuracy score: 0.26666666666666666\n",
      "computing score for size 800\n",
      "Accuracy score: 0.21666666666666667\n",
      "computing score for size 900\n",
      "Accuracy score: 0.21666666666666667\n",
      "computing score for size 1000\n",
      "Accuracy score: 0.23333333333333334\n"
     ]
    }
   ],
   "execution_count": 102
  },
  {
   "metadata": {
    "ExecuteTime": {
     "end_time": "2024-12-05T18:39:45.525021Z",
     "start_time": "2024-12-05T18:39:45.520958Z"
    }
   },
   "cell_type": "code",
   "source": [],
   "outputs": [
    {
     "data": {
      "text/plain": [
       "3000000"
      ]
     },
     "execution_count": 54,
     "metadata": {},
     "output_type": "execute_result"
    }
   ],
   "execution_count": 54
  },
  {
   "metadata": {},
   "cell_type": "code",
   "outputs": [],
   "execution_count": null,
   "source": []
  },
  {
   "metadata": {},
   "cell_type": "code",
   "outputs": [],
   "execution_count": null,
   "source": []
  },
  {
   "metadata": {},
   "cell_type": "code",
   "outputs": [],
   "execution_count": null,
   "source": []
  },
  {
   "metadata": {},
   "cell_type": "code",
   "outputs": [],
   "execution_count": null,
   "source": []
  },
  {
   "metadata": {},
   "cell_type": "code",
   "outputs": [],
   "execution_count": null,
   "source": []
  },
  {
   "metadata": {},
   "cell_type": "markdown",
   "source": [
    "- using a small subsample, what happens when we build a model / classifier using different resolution sizes..  \n",
    "- We'll want to make sure that the training dataset has good representation of the two species and each size class"
   ]
  }
 ],
 "metadata": {
  "colab": {
   "provenance": []
  },
  "kernelspec": {
   "display_name": "Python 3 (ipykernel)",
   "language": "python",
   "name": "python3"
  },
  "language_info": {
   "codemirror_mode": {
    "name": "ipython",
    "version": 3
   },
   "file_extension": ".py",
   "mimetype": "text/x-python",
   "name": "python",
   "nbconvert_exporter": "python",
   "pygments_lexer": "ipython3",
   "version": "3.10.12"
  }
 },
 "nbformat": 4,
 "nbformat_minor": 4
}
